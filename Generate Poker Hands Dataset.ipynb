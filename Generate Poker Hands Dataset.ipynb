{
 "cells": [
  {
   "cell_type": "code",
   "execution_count": null,
   "metadata": {},
   "outputs": [],
   "source": [
    "import pandas as pd\n",
    "import matplotlib.pyplot as plt\n",
    "from matplotlib import rcParams\n",
    "rcParams['figure.figsize'] = 10,7\n",
    "import pickle\n",
    "import numpy as np\n",
    "%matplotlib inline"
   ]
  },
  {
   "cell_type": "code",
   "execution_count": null,
   "metadata": {},
   "outputs": [],
   "source": [
    "from IPython.core.display import HTML\n",
    "css = open('poker-data-css-style.css').read()\n",
    "HTML('<style>{}</style>'.format(css))"
   ]
  },
  {
   "cell_type": "code",
   "execution_count": null,
   "metadata": {},
   "outputs": [],
   "source": [
    "features = ['S1', 'C1', 'S2', 'C2', 'S3', 'C3', 'S4', 'C4', 'S5', 'C5', 'CLASS']\n",
    "# Dataset: https://archive.ics.uci.edu/ml/datasets/Poker+Hand\n",
    "train_data = pd.read_csv('data/poker/poker-hand-training.data', names=features)\n",
    "test_data = pd.read_csv('data/poker/poker-hand-testing.data', names=features)\n"
   ]
  },
  {
   "cell_type": "code",
   "execution_count": null,
   "metadata": {},
   "outputs": [],
   "source": [
    "train_data.head(10)"
   ]
  },
  {
   "cell_type": "code",
   "execution_count": null,
   "metadata": {},
   "outputs": [],
   "source": [
    "print(len(train_data.index))\n",
    "print(len(train_data.columns))"
   ]
  },
  {
   "cell_type": "code",
   "execution_count": null,
   "metadata": {},
   "outputs": [],
   "source": [
    "train_data.tail(10)"
   ]
  },
  {
   "cell_type": "code",
   "execution_count": null,
   "metadata": {},
   "outputs": [],
   "source": [
    "# Changing data representation to match this project's conventions\n",
    "# data['S1'].replace([1,2,3,4], ['h','s','d','c'],inplace=True)\n",
    "# data['S2'].replace([1,2,3,4], ['h','s','d','c'],inplace=True)\n",
    "# data['S3'].replace([1,2,3,4], ['h','s','d','c'],inplace=True)\n",
    "# data['S4'].replace([1,2,3,4], ['h','s','d','c'],inplace=True)\n",
    "# data['S5'].replace([1,2,3,4], ['h','s','d','c'],inplace=True)\n",
    "\n",
    "# data['C1'].replace([1,11,12,13], ['A','J','Q','K'],inplace=True)\n",
    "# data['C2'].replace([1,11,12,13], ['A','J','Q','K'],inplace=True)\n",
    "# data['C3'].replace([1,11,12,13], ['A','J','Q','K'],inplace=True)\n",
    "# data['C4'].replace([1,11,12,13], ['A','J','Q','K'],inplace=True)\n",
    "# data['C5'].replace([1,11,12,13], ['A','J','Q','K'],inplace=True)\n",
    "# data.head(10)"
   ]
  },
  {
   "cell_type": "code",
   "execution_count": null,
   "metadata": {},
   "outputs": [],
   "source": [
    "# Reorder features\n",
    "# cols = data.columns.tolist()\n",
    "# cols = ['C1', 'S1', 'C2', 'S2', 'C3', 'S3', 'C4', 'S4', 'C5', 'S5', 'CLASS']\n",
    "# data = data[cols]\n",
    "# data.head(10)"
   ]
  },
  {
   "cell_type": "code",
   "execution_count": null,
   "metadata": {},
   "outputs": [],
   "source": [
    "poker_hands = [0, 1, 2, 3, 4, 5, 6, 7, 8, 9]\n",
    "hand_name = {\n",
    "    0: 'Nothing in hand',\n",
    "    1: 'One pair',\n",
    "    2: 'Two pairs',\n",
    "    3: 'Three of a kind',\n",
    "    4: 'Straight',\n",
    "    5: 'Flush',\n",
    "    6: 'Full house',\n",
    "    7: 'Four of a kind',\n",
    "    8: 'Straight flush',\n",
    "    9: 'Royal flush',\n",
    "}\n",
    "nb_classes = 10  # we have 10 classes of poker hands\n",
    "cls = {}\n",
    "for i in range(nb_classes):\n",
    "    cls[i] = len(train_data[train_data.CLASS==i])\n",
    "print(cls)\n",
    "for i in hand_name.keys():\n",
    "    print(\"%s: %d\" % (hand_name[i], cls[i]))"
   ]
  },
  {
   "cell_type": "code",
   "execution_count": null,
   "metadata": {},
   "outputs": [],
   "source": [
    "plt.bar(range(9), [cls[i] for i in range(9)], align='center')\n",
    "plt.xlabel('Poker hand id')\n",
    "plt.ylabel('Number of instances')\n",
    "# Data is extremely inbalanced because Royal Flush etc. are very rare hands in poker"
   ]
  },
  {
   "cell_type": "code",
   "execution_count": null,
   "metadata": {},
   "outputs": [],
   "source": [
    "# Parse data as-is. Fine for NeuralNet models, results in bad accuracy in Random Forests.\n",
    "X_train = data.iloc[:,0:10].values\n",
    "y_train = data.iloc[:,10].values"
   ]
  },
  {
   "cell_type": "code",
   "execution_count": null,
   "metadata": {},
   "outputs": [],
   "source": [
    "# Adding more useful features for random forest classification model.\n",
    "# Credit: https://github.com/CodeMySky/poker-hands\n",
    "from tqdm._tqdm_notebook import tqdm_notebook\n",
    "tqdm_notebook.pandas(desc=\"Bar\")\n",
    "def transform(data):\n",
    "    original_data = data.iloc[:, 0:-1]\n",
    "    label = data.iloc[:, -1]\n",
    "    card_value_std = original_data.iloc[:, 1:10:2].std(axis=1)\n",
    "    card_type_count = original_data.iloc[:, 0:10:2].progress_apply(pd.value_counts, axis=1).fillna(0)\n",
    "    card_type_count = card_type_count.progress_apply(pd.value_counts, axis=1).fillna(0)\n",
    "    card_value_count = original_data.iloc[:, 1:10:2].progress_apply(pd.value_counts, axis=1).fillna(0)\n",
    "    card_value_count = card_value_count.progress_apply(pd.value_counts, axis=1).fillna(0)\n",
    "    \n",
    "\n",
    "    return pd.concat([card_type_count, card_value_count, card_value_std], axis=1), label"
   ]
  },
  {
   "cell_type": "code",
   "execution_count": null,
   "metadata": {
    "scrolled": false
   },
   "outputs": [],
   "source": [
    "X_train, y_train = transform(train_data)\n",
    "X_test, y_test = transform(test_data)"
   ]
  },
  {
   "cell_type": "code",
   "execution_count": null,
   "metadata": {},
   "outputs": [],
   "source": [
    "pickle_out = open(\"data/poker/new features/X_train.pickle\", \"wb\")\n",
    "pickle.dump(X_train, pickle_out)\n",
    "pickle_out.close()\n",
    "pickle_out = open(\"data/poker/new features/y_train.pickle\", \"wb\")\n",
    "pickle.dump(y_train, pickle_out)\n",
    "pickle_out.close()\n",
    "pickle_out = open(\"data/poker/new features/X_test.pickle\", \"wb\")\n",
    "pickle.dump(X_test, pickle_out)\n",
    "pickle_out.close()\n",
    "pickle_out = open(\"data/poker/new features/y_test.pickle\", \"wb\")\n",
    "pickle.dump(y_test, pickle_out)\n",
    "pickle_out.close()"
   ]
  },
  {
   "cell_type": "code",
   "execution_count": null,
   "metadata": {},
   "outputs": [],
   "source": [
    "print(X_train[0][0])"
   ]
  },
  {
   "cell_type": "code",
   "execution_count": null,
   "metadata": {},
   "outputs": [],
   "source": []
  }
 ],
 "metadata": {
  "kernelspec": {
   "display_name": "Python 3",
   "language": "python",
   "name": "python3"
  },
  "language_info": {
   "codemirror_mode": {
    "name": "ipython",
    "version": 3
   },
   "file_extension": ".py",
   "mimetype": "text/x-python",
   "name": "python",
   "nbconvert_exporter": "python",
   "pygments_lexer": "ipython3",
   "version": "3.7.3"
  }
 },
 "nbformat": 4,
 "nbformat_minor": 2
}
